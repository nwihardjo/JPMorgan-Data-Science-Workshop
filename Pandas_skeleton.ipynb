{
 "cells": [
  {
   "cell_type": "markdown",
   "metadata": {},
   "source": [
    "# Pandas notebook\n",
    "\n",
    "## Getting started with Pandas\n",
    "\n",
    "Start by loading the `pandas` library (with alias `pd`) then load the dataset `airfoil2.csv` using the `read_csv()` function; call the corresponding dataframe `df`.\n",
    "Use the `head()` method to show how `df` looks like.\n",
    "\n",
    "Note that this `read_csv()` function is very flexible and can accomodate all sorts of file. \n",
    "You will do this in much more details in module 2.\n",
    "For now, we're giving you a nicely formatted dataset that directly works well with Pandas."
   ]
  },
  {
   "cell_type": "code",
   "execution_count": 5,
   "metadata": {},
   "outputs": [],
   "source": [
    "# import the library\n",
    "import pandas as pd\n",
    "# load the dataframe, use \"head\" to have a look\n",
    "df = pd.read_csv('data/airfoil.csv')"
   ]
  },
  {
   "cell_type": "markdown",
   "metadata": {},
   "source": [
    "### Retrieving some basic informations \n",
    "\n",
    "Now that you have a DataFrame object `df`, you can explore the kind of information that is stored (beyond the actual data). Using the TAB completion you can get an idea for all the methods and attributes that you may want to use. \n",
    "\n",
    "Examples of useful attributes\n",
    "\n",
    "* `shape` stores the dimensions of the data frame\n",
    "* `columns` stores the names of the columns \n",
    "* `index` stores the names of the rows, by default pandas uses a range from 0 to the number of rows\n",
    "* `dtypes` stores the `dtype` of each column\n",
    "\n",
    "Show all of those, check it matches what you expected versus the output of `head` used earlier."
   ]
  },
  {
   "cell_type": "code",
   "execution_count": 17,
   "metadata": {},
   "outputs": [
    {
     "name": "stdout",
     "output_type": "stream",
     "text": [
      "Dimension (1503, 6)\n",
      "Columns Index(['Frequency [Hz]', 'Angle [deg]', 'Chord length [m]',\n",
      "       'FS velocity [m/s]', 'SSD thickness [m]', 'Sound pressure [dB]'],\n",
      "      dtype='object')\n",
      "Row nameRangeIndex(start=0, stop=1503, step=1)\n",
      "Type Frequency [Hz]           int64\n",
      "Angle [deg]            float64\n",
      "Chord length [m]       float64\n",
      "FS velocity [m/s]      float64\n",
      "SSD thickness [m]      float64\n",
      "Sound pressure [dB]    float64\n",
      "dtype: object\n"
     ]
    }
   ],
   "source": [
    "# add your code here to explore the meta-informations of df\n",
    "print('Dimension {}'.format(df.shape))\n",
    "print('Columns {}'.format(df.columns))\n",
    "print('Row name{}'.format(df.index))\n",
    "print('Type {}'.format(df.dtypes))"
   ]
  },
  {
   "cell_type": "markdown",
   "metadata": {},
   "source": [
    "## Accessing elements in a dataframe\n",
    "\n",
    "Let's get the 11th value of Frequency using several different approaches:\n",
    "\n",
    "1. retrieve the series and then access the 10th value\n",
    "1. using `loc`\n",
    "1. (bonus) using `iloc`"
   ]
  },
  {
   "cell_type": "code",
   "execution_count": 41,
   "metadata": {},
   "outputs": [
    {
     "name": "stdout",
     "output_type": "stream",
     "text": [
      "8000\n",
      "iloc 8000\n"
     ]
    }
   ],
   "source": [
    "# add your code here\n",
    "ser = df['Frequency [Hz]']\n",
    "print(df.loc[10,'Frequency [Hz]'])\n",
    "df.loc?\n",
    "print('iloc',df.iloc[10,0])"
   ]
  },
  {
   "cell_type": "markdown",
   "metadata": {},
   "source": [
    "### Using loc for fancy selections\n",
    "\n",
    "Using `loc()`, can you retrieve the sub-dataframe with all the columns whose name has strictly more than 15 characters? Call this `df2`. Using `to_csv`, output this as a tab separated file (not comma) and call the file `airfoil2_2.dat`.\n",
    "\n",
    "(Open the file in an editor to check it matches what you expect)."
   ]
  },
  {
   "cell_type": "code",
   "execution_count": 50,
   "metadata": {},
   "outputs": [
    {
     "name": "stdout",
     "output_type": "stream",
     "text": [
      "   Chord length [m]  FS velocity [m/s]  SSD thickness [m]  Sound pressure [dB]\n",
      "0            0.3048               71.3           0.002663              126.201\n",
      "1            0.3048               71.3           0.002663              125.201\n",
      "2            0.3048               71.3           0.002663              125.951\n",
      "3            0.3048               71.3           0.002663              127.591\n",
      "4            0.3048               71.3           0.002663              127.461\n",
      "5            0.3048               71.3           0.002663              125.571\n",
      "      Frequency [Hz]  Angle [deg]  Chord length [m]  FS velocity [m/s]  \\\n",
      "1               1000          0.0            0.3048               71.3   \n",
      "2               1250          0.0            0.3048               71.3   \n",
      "3               1600          0.0            0.3048               71.3   \n",
      "4               2000          0.0            0.3048               71.3   \n",
      "5               2500          0.0            0.3048               71.3   \n",
      "6               3150          0.0            0.3048               71.3   \n",
      "7               4000          0.0            0.3048               71.3   \n",
      "8               5000          0.0            0.3048               71.3   \n",
      "9               6300          0.0            0.3048               71.3   \n",
      "10              8000          0.0            0.3048               71.3   \n",
      "11             10000          0.0            0.3048               71.3   \n",
      "12             12500          0.0            0.3048               71.3   \n",
      "13             16000          0.0            0.3048               71.3   \n",
      "17              1000          0.0            0.3048               55.5   \n",
      "18              1250          0.0            0.3048               55.5   \n",
      "19              1600          0.0            0.3048               55.5   \n",
      "20              2000          0.0            0.3048               55.5   \n",
      "21              2500          0.0            0.3048               55.5   \n",
      "22              3150          0.0            0.3048               55.5   \n",
      "23              4000          0.0            0.3048               55.5   \n",
      "24              5000          0.0            0.3048               55.5   \n",
      "25              6300          0.0            0.3048               55.5   \n",
      "26              8000          0.0            0.3048               55.5   \n",
      "27             10000          0.0            0.3048               55.5   \n",
      "28             12500          0.0            0.3048               55.5   \n",
      "36              1000          0.0            0.3048               39.6   \n",
      "37              1250          0.0            0.3048               39.6   \n",
      "38              1600          0.0            0.3048               39.6   \n",
      "39              2000          0.0            0.3048               39.6   \n",
      "40              2500          0.0            0.3048               39.6   \n",
      "...              ...          ...               ...                ...   \n",
      "1452            2500         12.3            0.1016               39.6   \n",
      "1453            3150         12.3            0.1016               39.6   \n",
      "1454            4000         12.3            0.1016               39.6   \n",
      "1455            5000         12.3            0.1016               39.6   \n",
      "1456            6300         12.3            0.1016               39.6   \n",
      "1464            1000         12.3            0.1016               31.7   \n",
      "1465            1250         12.3            0.1016               31.7   \n",
      "1466            1600         12.3            0.1016               31.7   \n",
      "1467            2000         12.3            0.1016               31.7   \n",
      "1468            2500         12.3            0.1016               31.7   \n",
      "1469            3150         12.3            0.1016               31.7   \n",
      "1470            4000         12.3            0.1016               31.7   \n",
      "1471            5000         12.3            0.1016               31.7   \n",
      "1472            6300         12.3            0.1016               31.7   \n",
      "1480            1000         15.6            0.1016               71.3   \n",
      "1481            1250         15.6            0.1016               71.3   \n",
      "1482            1600         15.6            0.1016               71.3   \n",
      "1483            2000         15.6            0.1016               71.3   \n",
      "1484            2500         15.6            0.1016               71.3   \n",
      "1485            3150         15.6            0.1016               71.3   \n",
      "1486            4000         15.6            0.1016               71.3   \n",
      "1494            1000         15.6            0.1016               39.6   \n",
      "1495            1250         15.6            0.1016               39.6   \n",
      "1496            1600         15.6            0.1016               39.6   \n",
      "1497            2000         15.6            0.1016               39.6   \n",
      "1498            2500         15.6            0.1016               39.6   \n",
      "1499            3150         15.6            0.1016               39.6   \n",
      "1500            4000         15.6            0.1016               39.6   \n",
      "1501            5000         15.6            0.1016               39.6   \n",
      "1502            6300         15.6            0.1016               39.6   \n",
      "\n",
      "      SSD thickness [m]  Sound pressure [dB]  \n",
      "1              0.002663              125.201  \n",
      "2              0.002663              125.951  \n",
      "3              0.002663              127.591  \n",
      "4              0.002663              127.461  \n",
      "5              0.002663              125.571  \n",
      "6              0.002663              125.201  \n",
      "7              0.002663              123.061  \n",
      "8              0.002663              121.301  \n",
      "9              0.002663              119.541  \n",
      "10             0.002663              117.151  \n",
      "11             0.002663              115.391  \n",
      "12             0.002663              112.241  \n",
      "13             0.002663              108.721  \n",
      "17             0.002831              126.966  \n",
      "18             0.002831              126.086  \n",
      "19             0.002831              126.986  \n",
      "20             0.002831              126.616  \n",
      "21             0.002831              124.106  \n",
      "22             0.002831              123.236  \n",
      "23             0.002831              121.106  \n",
      "24             0.002831              119.606  \n",
      "25             0.002831              117.976  \n",
      "26             0.002831              116.476  \n",
      "27             0.002831              113.076  \n",
      "28             0.002831              111.076  \n",
      "36             0.003101              127.899  \n",
      "37             0.003101              125.499  \n",
      "38             0.003101              124.049  \n",
      "39             0.003101              123.689  \n",
      "40             0.003101              121.399  \n",
      "...                 ...                  ...  \n",
      "1452           0.040827              113.315  \n",
      "1453           0.040827              113.055  \n",
      "1454           0.040827              110.905  \n",
      "1455           0.040827              108.625  \n",
      "1456           0.040827              107.985  \n",
      "1464           0.041876              119.777  \n",
      "1465           0.041876              118.767  \n",
      "1466           0.041876              114.477  \n",
      "1467           0.041876              110.447  \n",
      "1468           0.041876              110.317  \n",
      "1469           0.041876              110.307  \n",
      "1470           0.041876              108.407  \n",
      "1471           0.041876              107.147  \n",
      "1472           0.041876              107.267  \n",
      "1480           0.043726              124.438  \n",
      "1481           0.043726              123.178  \n",
      "1482           0.043726              121.528  \n",
      "1483           0.043726              119.888  \n",
      "1484           0.043726              118.998  \n",
      "1485           0.043726              116.468  \n",
      "1486           0.043726              113.298  \n",
      "1494           0.052849              119.224  \n",
      "1495           0.052849              118.214  \n",
      "1496           0.052849              114.554  \n",
      "1497           0.052849              110.894  \n",
      "1498           0.052849              110.264  \n",
      "1499           0.052849              109.254  \n",
      "1500           0.052849              106.604  \n",
      "1501           0.052849              106.224  \n",
      "1502           0.052849              104.204  \n",
      "\n",
      "[1038 rows x 6 columns]\n"
     ]
    }
   ],
   "source": [
    "# add your code here\n",
    "df2 = df.loc[0:5 ,[c for c in df.columns if len(c) > 15]]\n",
    "df3 = df.loc[df['Frequency [Hz]'] > 800,:]\n",
    "print(df2)\n",
    "print(df3)\n",
    "# print ( for c in df.columns)"
   ]
  },
  {
   "cell_type": "markdown",
   "metadata": {},
   "source": [
    "### Working with a Pd.Series\n",
    "\n",
    "Retrieve the series corresponding to the sound pressure from the dataframe, display\n",
    "\n",
    "* show the name of the series\n",
    "* show the shape attribute of the series (does it correspond to what you expected?)\n",
    "* the mean and the median\n",
    "* the mean of the squared values"
   ]
  },
  {
   "cell_type": "code",
   "execution_count": 56,
   "metadata": {},
   "outputs": [
    {
     "name": "stdout",
     "output_type": "stream",
     "text": [
      "Sound pressure [dB]\n"
     ]
    }
   ],
   "source": [
    "# add your code here\n",
    "sd = df['Sound pressure [dB]']\n",
    "print(sd.name)\n",
    "\n"
   ]
  }
 ],
 "metadata": {
  "kernelspec": {
   "display_name": "Python 3",
   "language": "python",
   "name": "python3"
  },
  "language_info": {
   "codemirror_mode": {
    "name": "ipython",
    "version": 3
   },
   "file_extension": ".py",
   "mimetype": "text/x-python",
   "name": "python",
   "nbconvert_exporter": "python",
   "pygments_lexer": "ipython3",
   "version": "3.6.1"
  }
 },
 "nbformat": 4,
 "nbformat_minor": 2
}
