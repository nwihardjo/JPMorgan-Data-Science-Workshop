{
 "cells": [
  {
   "cell_type": "markdown",
   "metadata": {},
   "source": [
    "# Competition: starter notebook\n",
    "\n",
    "This notebook gives a starting point for the competition: it loads the data, picks a few features, adds a DTC on top and gives a baseline accuracy of 61%. \n",
    "\n",
    "There is a **lot** of room for improvement! This is where you come in. Go through the notebook and try to gradually improve the notebook in order to get a better accuracy on the test set. \n",
    "\n",
    "**Tasks**:\n",
    "\n",
    "1. Run through this notebook, make sure you understand the general structure\n",
    "2. Run through the file `predictive_model.py`, make sure you understand how this notebook translates to the `predictive_model.py` file\n",
    "3. Modify the notebook to increase the performances as much as you can\n",
    "4. When you're ready to submit, run the cell to save your trained model (see at the bottom of this notebook) and adapt the `predictive_model.py` file to correspond to what you did in the notebook.\n",
    "\n",
    "## Submitting your model\n",
    "\n",
    "When you would like to submit your model, copy paste the relevant steps from the notebook to the auxiliary file `predictive_model.py`. **Test** that the whole procedure worked by typing\n",
    "\n",
    "```bash\n",
    "python model_tester.py\n",
    "```\n",
    "\n",
    "if it returns something like \n",
    "\n",
    "```\n",
    "Accuracy score (dummy test set): 0.6159\n",
    "MODEL RAN SUCCESSFULLY\n",
    "```\n",
    "\n",
    "it's a good sign. If it failed then you need to fix it before submitting!\n",
    "\n",
    "When submitting, make sure you send **both** the `predictive_model.py` file as well as the auxiliary `predictive_model.pickle` file that this notebook should generate (see end of notebook) and which contains your trained classifier.\n",
    "\n",
    "\n",
    "## Important note\n",
    "\n",
    "If, in your feature engineering, you create categories for specific occurences of words for example. Think about how to deal with a case where a word is in the test data and **not** in the training data.\n",
    "\n",
    "This is very important as your model will likely fail on the test data otherwise.\n",
    "\n",
    "## Importing the libraries\n",
    "\n",
    "Below we import some useful libraries to build an elementary model, feel free to add whatever libraries you need (make sure to include them in `predictive_model.py`). "
   ]
  },
  {
   "cell_type": "code",
   "execution_count": 1,
   "metadata": {
    "collapsed": true
   },
   "outputs": [],
   "source": [
    "import pandas as pd\n",
    "import numpy as np\n",
    "\n",
    "from sklearn.model_selection import train_test_split\n",
    "from sklearn.metrics import classification_report, accuracy_score\n",
    "from sklearn.tree import DecisionTreeClassifier"
   ]
  },
  {
   "cell_type": "markdown",
   "metadata": {},
   "source": [
    "### Getting the data\n",
    "\n",
    "The data corresponds to kickstarter projects, data about the projects and whether it was successfully funded or not. "
   ]
  },
  {
   "cell_type": "code",
   "execution_count": 2,
   "metadata": {},
   "outputs": [
    {
     "data": {
      "text/html": [
       "<div>\n",
       "<style>\n",
       "    .dataframe thead tr:only-child th {\n",
       "        text-align: right;\n",
       "    }\n",
       "\n",
       "    .dataframe thead th {\n",
       "        text-align: left;\n",
       "    }\n",
       "\n",
       "    .dataframe tbody tr th {\n",
       "        vertical-align: top;\n",
       "    }\n",
       "</style>\n",
       "<table border=\"1\" class=\"dataframe\">\n",
       "  <thead>\n",
       "    <tr style=\"text-align: right;\">\n",
       "      <th></th>\n",
       "      <th>photo</th>\n",
       "      <th>name</th>\n",
       "      <th>blurb</th>\n",
       "      <th>goal</th>\n",
       "      <th>state</th>\n",
       "      <th>slug</th>\n",
       "      <th>disable_communication</th>\n",
       "      <th>country</th>\n",
       "      <th>currency</th>\n",
       "      <th>currency_symbol</th>\n",
       "      <th>...</th>\n",
       "      <th>created_at</th>\n",
       "      <th>launched_at</th>\n",
       "      <th>static_usd_rate</th>\n",
       "      <th>creator</th>\n",
       "      <th>location</th>\n",
       "      <th>category</th>\n",
       "      <th>profile</th>\n",
       "      <th>urls</th>\n",
       "      <th>source_url</th>\n",
       "      <th>friends</th>\n",
       "    </tr>\n",
       "  </thead>\n",
       "  <tbody>\n",
       "    <tr>\n",
       "      <th>0</th>\n",
       "      <td>{\"small\":\"https://ksr-ugc.imgix.net/assets/012...</td>\n",
       "      <td>Angular - Where Modern Art meets Cards</td>\n",
       "      <td>Angular is a minimalist card design for simpli...</td>\n",
       "      <td>17380.0</td>\n",
       "      <td>failed</td>\n",
       "      <td>angular-where-modern-art-meets-cards</td>\n",
       "      <td>False</td>\n",
       "      <td>US</td>\n",
       "      <td>USD</td>\n",
       "      <td>$</td>\n",
       "      <td>...</td>\n",
       "      <td>1455845363</td>\n",
       "      <td>1456694829</td>\n",
       "      <td>1.000000</td>\n",
       "      <td>{\"urls\":{\"web\":{\"user\":\"https://www.kickstarte...</td>\n",
       "      <td>{\"country\":\"US\",\"urls\":{\"web\":{\"discover\":\"htt...</td>\n",
       "      <td>{\"urls\":{\"web\":{\"discover\":\"http://www.kicksta...</td>\n",
       "      <td>{\"background_image_opacity\":0.8,\"should_show_f...</td>\n",
       "      <td>{\"web\":{\"project\":\"https://www.kickstarter.com...</td>\n",
       "      <td>https://www.kickstarter.com/discover/categorie...</td>\n",
       "      <td>NaN</td>\n",
       "    </tr>\n",
       "    <tr>\n",
       "      <th>1</th>\n",
       "      <td>{\"small\":\"https://ksr-ugc.imgix.net/assets/014...</td>\n",
       "      <td>Ladybeard is KAWAII-CORE</td>\n",
       "      <td>Original songs and music videos to jump start ...</td>\n",
       "      <td>24000.0</td>\n",
       "      <td>failed</td>\n",
       "      <td>ladybeard-is-kawaii-core</td>\n",
       "      <td>False</td>\n",
       "      <td>US</td>\n",
       "      <td>USD</td>\n",
       "      <td>$</td>\n",
       "      <td>...</td>\n",
       "      <td>1475568868</td>\n",
       "      <td>1480946454</td>\n",
       "      <td>1.000000</td>\n",
       "      <td>{\"urls\":{\"web\":{\"user\":\"https://www.kickstarte...</td>\n",
       "      <td>{\"country\":\"JP\",\"urls\":{\"web\":{\"discover\":\"htt...</td>\n",
       "      <td>{\"urls\":{\"web\":{\"discover\":\"http://www.kicksta...</td>\n",
       "      <td>{\"background_image_opacity\":0.8,\"should_show_f...</td>\n",
       "      <td>{\"web\":{\"project\":\"https://www.kickstarter.com...</td>\n",
       "      <td>https://www.kickstarter.com/discover/categorie...</td>\n",
       "      <td>NaN</td>\n",
       "    </tr>\n",
       "    <tr>\n",
       "      <th>2</th>\n",
       "      <td>{\"small\":\"https://ksr-ugc.imgix.net/assets/011...</td>\n",
       "      <td>Vegan Cafe Delivery Service in Vancouver BC</td>\n",
       "      <td>Our project is to launch a vegan lunch deliver...</td>\n",
       "      <td>40000.0</td>\n",
       "      <td>failed</td>\n",
       "      <td>vegancafeca</td>\n",
       "      <td>False</td>\n",
       "      <td>CA</td>\n",
       "      <td>CAD</td>\n",
       "      <td>$</td>\n",
       "      <td>...</td>\n",
       "      <td>1405218883</td>\n",
       "      <td>1405957628</td>\n",
       "      <td>0.926746</td>\n",
       "      <td>{\"urls\":{\"web\":{\"user\":\"https://www.kickstarte...</td>\n",
       "      <td>{\"country\":\"CA\",\"urls\":{\"web\":{\"discover\":\"htt...</td>\n",
       "      <td>{\"urls\":{\"web\":{\"discover\":\"http://www.kicksta...</td>\n",
       "      <td>{\"background_image_opacity\":0.8,\"should_show_f...</td>\n",
       "      <td>{\"web\":{\"project\":\"https://www.kickstarter.com...</td>\n",
       "      <td>https://www.kickstarter.com/discover/categorie...</td>\n",
       "      <td>NaN</td>\n",
       "    </tr>\n",
       "  </tbody>\n",
       "</table>\n",
       "<p>3 rows × 23 columns</p>\n",
       "</div>"
      ],
      "text/plain": [
       "                                               photo  \\\n",
       "0  {\"small\":\"https://ksr-ugc.imgix.net/assets/012...   \n",
       "1  {\"small\":\"https://ksr-ugc.imgix.net/assets/014...   \n",
       "2  {\"small\":\"https://ksr-ugc.imgix.net/assets/011...   \n",
       "\n",
       "                                          name  \\\n",
       "0       Angular - Where Modern Art meets Cards   \n",
       "1                     Ladybeard is KAWAII-CORE   \n",
       "2  Vegan Cafe Delivery Service in Vancouver BC   \n",
       "\n",
       "                                               blurb     goal   state  \\\n",
       "0  Angular is a minimalist card design for simpli...  17380.0  failed   \n",
       "1  Original songs and music videos to jump start ...  24000.0  failed   \n",
       "2  Our project is to launch a vegan lunch deliver...  40000.0  failed   \n",
       "\n",
       "                                   slug  disable_communication country  \\\n",
       "0  angular-where-modern-art-meets-cards                  False      US   \n",
       "1              ladybeard-is-kawaii-core                  False      US   \n",
       "2                           vegancafeca                  False      CA   \n",
       "\n",
       "  currency currency_symbol   ...    created_at  launched_at  static_usd_rate  \\\n",
       "0      USD               $   ...    1455845363   1456694829         1.000000   \n",
       "1      USD               $   ...    1475568868   1480946454         1.000000   \n",
       "2      CAD               $   ...    1405218883   1405957628         0.926746   \n",
       "\n",
       "                                             creator  \\\n",
       "0  {\"urls\":{\"web\":{\"user\":\"https://www.kickstarte...   \n",
       "1  {\"urls\":{\"web\":{\"user\":\"https://www.kickstarte...   \n",
       "2  {\"urls\":{\"web\":{\"user\":\"https://www.kickstarte...   \n",
       "\n",
       "                                            location  \\\n",
       "0  {\"country\":\"US\",\"urls\":{\"web\":{\"discover\":\"htt...   \n",
       "1  {\"country\":\"JP\",\"urls\":{\"web\":{\"discover\":\"htt...   \n",
       "2  {\"country\":\"CA\",\"urls\":{\"web\":{\"discover\":\"htt...   \n",
       "\n",
       "                                            category  \\\n",
       "0  {\"urls\":{\"web\":{\"discover\":\"http://www.kicksta...   \n",
       "1  {\"urls\":{\"web\":{\"discover\":\"http://www.kicksta...   \n",
       "2  {\"urls\":{\"web\":{\"discover\":\"http://www.kicksta...   \n",
       "\n",
       "                                             profile  \\\n",
       "0  {\"background_image_opacity\":0.8,\"should_show_f...   \n",
       "1  {\"background_image_opacity\":0.8,\"should_show_f...   \n",
       "2  {\"background_image_opacity\":0.8,\"should_show_f...   \n",
       "\n",
       "                                                urls  \\\n",
       "0  {\"web\":{\"project\":\"https://www.kickstarter.com...   \n",
       "1  {\"web\":{\"project\":\"https://www.kickstarter.com...   \n",
       "2  {\"web\":{\"project\":\"https://www.kickstarter.com...   \n",
       "\n",
       "                                          source_url friends  \n",
       "0  https://www.kickstarter.com/discover/categorie...     NaN  \n",
       "1  https://www.kickstarter.com/discover/categorie...     NaN  \n",
       "2  https://www.kickstarter.com/discover/categorie...     NaN  \n",
       "\n",
       "[3 rows x 23 columns]"
      ]
     },
     "execution_count": 2,
     "metadata": {},
     "output_type": "execute_result"
    }
   ],
   "source": [
    "kick = pd.read_csv(\"kick.csv\", low_memory=False)\n",
    "kick.head(3)"
   ]
  },
  {
   "cell_type": "markdown",
   "metadata": {},
   "source": [
    "### Having a first look at the data"
   ]
  },
  {
   "cell_type": "code",
   "execution_count": 3,
   "metadata": {},
   "outputs": [
    {
     "name": "stdout",
     "output_type": "stream",
     "text": [
      "COLUMNS:\n",
      "\n",
      "Index(['photo', 'name', 'blurb', 'goal', 'state', 'slug',\n",
      "       'disable_communication', 'country', 'currency', 'currency_symbol',\n",
      "       'currency_trailing_code', 'deadline', 'state_changed_at', 'created_at',\n",
      "       'launched_at', 'static_usd_rate', 'creator', 'location', 'category',\n",
      "       'profile', 'urls', 'source_url', 'friends'],\n",
      "      dtype='object')\n",
      "\n",
      "DIMENSIONS:\n",
      "\n",
      "(112879, 23)\n",
      "\n",
      "TYPES FOR THE COLUMNS:\n",
      "\n",
      "photo                      object\n",
      "name                       object\n",
      "blurb                      object\n",
      "goal                      float64\n",
      "state                      object\n",
      "slug                       object\n",
      "disable_communication        bool\n",
      "country                    object\n",
      "currency                   object\n",
      "currency_symbol            object\n",
      "currency_trailing_code       bool\n",
      "deadline                    int64\n",
      "state_changed_at            int64\n",
      "created_at                  int64\n",
      "launched_at                 int64\n",
      "static_usd_rate           float64\n",
      "creator                    object\n",
      "location                   object\n",
      "category                   object\n",
      "profile                    object\n",
      "urls                       object\n",
      "source_url                 object\n",
      "friends                    object\n",
      "dtype: object\n"
     ]
    }
   ],
   "source": [
    "# All the columns that are available\n",
    "print(\"COLUMNS:\\n\")\n",
    "print(kick.columns)\n",
    "# The dimension of the dataset\n",
    "print(\"\\nDIMENSIONS:\\n\")\n",
    "print(kick.shape)\n",
    "# The types of all the columns\n",
    "print(\"\\nTYPES FOR THE COLUMNS:\\n\")\n",
    "print(kick.dtypes)"
   ]
  },
  {
   "cell_type": "markdown",
   "metadata": {},
   "source": [
    "### Extracting the response\n",
    "\n",
    "The response is the \"state\" column, we extract it, and encode it:\n",
    "\n",
    "* `failed`, `canceled`, `suspended` --> 0\n",
    "* `successful` --> 1\n",
    "\n",
    "**Note**: do not modify this. "
   ]
  },
  {
   "cell_type": "code",
   "execution_count": 4,
   "metadata": {
    "collapsed": true
   },
   "outputs": [],
   "source": [
    "# Do not modify this cell\n",
    "response = kick[\"state\"]\n",
    "del kick[\"state\"]\n",
    "response = response.apply(lambda x: 0 if x in ['failed', 'canceled', 'suspended'] else 1)"
   ]
  },
  {
   "cell_type": "markdown",
   "metadata": {},
   "source": [
    "Now the projects are labelled as either 0 or 1, which you can check by running the next cell:"
   ]
  },
  {
   "cell_type": "code",
   "execution_count": 5,
   "metadata": {},
   "outputs": [
    {
     "data": {
      "text/plain": [
       "array([0, 1], dtype=int64)"
      ]
     },
     "execution_count": 5,
     "metadata": {},
     "output_type": "execute_result"
    }
   ],
   "source": [
    "response.unique()"
   ]
  },
  {
   "cell_type": "markdown",
   "metadata": {
    "collapsed": true
   },
   "source": [
    "## A first, simple model\n",
    "\n",
    "In this model, we extract the numerical columns and apply a Decision Tree Classifier. "
   ]
  },
  {
   "cell_type": "code",
   "execution_count": 6,
   "metadata": {
    "collapsed": true
   },
   "outputs": [],
   "source": [
    "numerical_columns = kick.select_dtypes(include=['float64', 'int64']).columns"
   ]
  },
  {
   "cell_type": "markdown",
   "metadata": {
    "collapsed": true
   },
   "source": [
    "Train test split after only considering the columns extracted above"
   ]
  },
  {
   "cell_type": "code",
   "execution_count": 7,
   "metadata": {
    "collapsed": true
   },
   "outputs": [],
   "source": [
    "X_train, X_test, y_train, y_test = train_test_split(kick[numerical_columns],\n",
    "                                                    response, random_state=143)"
   ]
  },
  {
   "cell_type": "markdown",
   "metadata": {
    "collapsed": true
   },
   "source": [
    "Fitting a DTC with maximum depth of 6"
   ]
  },
  {
   "cell_type": "code",
   "execution_count": 8,
   "metadata": {},
   "outputs": [
    {
     "data": {
      "text/plain": [
       "DecisionTreeClassifier(class_weight=None, criterion='gini', max_depth=6,\n",
       "            max_features=None, max_leaf_nodes=None,\n",
       "            min_impurity_split=1e-07, min_samples_leaf=1,\n",
       "            min_samples_split=2, min_weight_fraction_leaf=0.0,\n",
       "            presort=False, random_state=None, splitter='best')"
      ]
     },
     "execution_count": 8,
     "metadata": {},
     "output_type": "execute_result"
    }
   ],
   "source": [
    "dtc = DecisionTreeClassifier(max_depth=6)\n",
    "\n",
    "dtc.fit(X_train, y_train)"
   ]
  },
  {
   "cell_type": "markdown",
   "metadata": {},
   "source": [
    "Getting the prediction on the test set with the DTC and comparing to the truth."
   ]
  },
  {
   "cell_type": "code",
   "execution_count": 9,
   "metadata": {},
   "outputs": [
    {
     "name": "stdout",
     "output_type": "stream",
     "text": [
      "ACCURACY ON TEST SET: 0.616\n",
      "CLASSIFICATION REPORT:\n",
      "              precision    recall  f1-score   support\n",
      "\n",
      "          0      0.622     0.720     0.667     15110\n",
      "          1      0.605     0.496     0.545     13110\n",
      "\n",
      "avg / total      0.614     0.616     0.610     28220\n",
      "\n"
     ]
    }
   ],
   "source": [
    "y_pred = dtc.predict(X_test)\n",
    "\n",
    "print(\"ACCURACY ON TEST SET: {0:.3f}\".format(accuracy_score(y_test, y_pred)))\n",
    "print(\"CLASSIFICATION REPORT:\\n\", \n",
    "      str(classification_report(y_test, y_pred, digits=3)))"
   ]
  },
  {
   "cell_type": "markdown",
   "metadata": {},
   "source": [
    "## OUTPUT YOUR MODEL\n",
    "\n",
    "Adapt and run this cell when you have trained your classifier and whish to submit it. \n",
    "\n",
    "Pickle allows to save python objects preserving their structure."
   ]
  },
  {
   "cell_type": "code",
   "execution_count": 10,
   "metadata": {
    "collapsed": true
   },
   "outputs": [],
   "source": [
    "import pickle"
   ]
  },
  {
   "cell_type": "markdown",
   "metadata": {},
   "source": [
    "Only change the name of the classifier (here `dtc`) to the name of your trained model, leave the rest as is. "
   ]
  },
  {
   "cell_type": "code",
   "execution_count": 12,
   "metadata": {
    "collapsed": true
   },
   "outputs": [],
   "source": [
    "with open('predictive_model.pickle', 'wb') as output_file:\n",
    "    # Change what is between the square brackets, nothing else\n",
    "    pickle.dump([dtc], output_file)"
   ]
  }
 ],
 "metadata": {
  "kernelspec": {
   "display_name": "Python 3",
   "language": "python",
   "name": "python3"
  },
  "language_info": {
   "codemirror_mode": {
    "name": "ipython",
    "version": 3
   },
   "file_extension": ".py",
   "mimetype": "text/x-python",
   "name": "python",
   "nbconvert_exporter": "python",
   "pygments_lexer": "ipython3",
   "version": "3.6.1"
  }
 },
 "nbformat": 4,
 "nbformat_minor": 2
}
