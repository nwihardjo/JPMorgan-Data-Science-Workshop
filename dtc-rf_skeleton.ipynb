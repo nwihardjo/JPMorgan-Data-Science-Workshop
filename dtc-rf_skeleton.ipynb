{
 "cells": [
  {
   "cell_type": "markdown",
   "metadata": {},
   "source": [
    "# Supervised Learning\n",
    "\n",
    "You will now explore data coming from the american Bureau of Transportation Statistics where they recorded (a lot of) data from flights in the US from 1987 to 2008 and analysed the causes of delays. \n",
    "We will only look at data from 2008 and a subset of around 100 000 instances. We also removed some of the columns to simplify the analysis\n",
    "\n",
    "The aim is to build a classifier that can predict whether a flight will arrive with a significant delay given the parameters at takeoff.\n",
    "\n",
    "### Loading the data\n",
    "\n",
    "As usual, start by loading `pandas`, `numpy`, `matplotlib` and `seaborn` and load the data corresponding to the file `flights08.csv`."
   ]
  },
  {
   "cell_type": "code",
   "execution_count": 51,
   "metadata": {
    "collapsed": true
   },
   "outputs": [],
   "source": [
    "# code to load the libraries\n",
    "import pandas as pd\n",
    "import numpy as np\n",
    "import matplotlib.pyplot as plt\n",
    "import seaborn as sbs\n",
    "\n",
    "%matplotlib inline"
   ]
  },
  {
   "cell_type": "code",
   "execution_count": 52,
   "metadata": {},
   "outputs": [],
   "source": [
    "# add your code to load the data\n",
    "data = pd.read_csv('data/flights08.csv')\n"
   ]
  },
  {
   "cell_type": "markdown",
   "metadata": {},
   "source": [
    "### Getting a first look at the data\n",
    "\n",
    "Have a look at the data:\n",
    "\n",
    "* Do the attributes make sense? (see [here](http://stat-computing.org/dataexpo/2009/the-data.html) if needed)\n",
    "* What's the shape of the dataset?\n",
    "* How many missing values are present?\n",
    "* How many unique values are present per attribute? what does that tell you? "
   ]
  },
  {
   "cell_type": "code",
   "execution_count": 38,
   "metadata": {},
   "outputs": [
    {
     "name": "stdout",
     "output_type": "stream",
     "text": [
      "   Month  DayofMonth  DayOfWeek  DepTime  CRSDepTime  CRSArrTime  \\\n",
      "0      1           3          4   2003.0        1955        2225   \n",
      "1      1           3          4    754.0         735        1000   \n",
      "2      1           3          4    628.0         620         750   \n",
      "3      1           3          4    926.0         930        1100   \n",
      "4      1           3          4   1829.0        1755        1925   \n",
      "\n",
      "   CRSElapsedTime  ArrDelay  DepDelay  Distance  TaxiOut  Cancelled  Diverted  \\\n",
      "0             150     -14.0       8.0       810      8.0          0         0   \n",
      "1             145       2.0      19.0       810     10.0          0         0   \n",
      "2              90      14.0       8.0       515     17.0          0         0   \n",
      "3              90      -6.0      -4.0       515      7.0          0         0   \n",
      "4              90      34.0      34.0       515     10.0          0         0   \n",
      "\n",
      "   CarrierDelay  WeatherDelay  NASDelay  SecurityDelay  LateAircraftDelay  \n",
      "0           NaN           NaN       NaN            NaN                NaN  \n",
      "1           NaN           NaN       NaN            NaN                NaN  \n",
      "2           NaN           NaN       NaN            NaN                NaN  \n",
      "3           NaN           NaN       NaN            NaN                NaN  \n",
      "4           2.0           0.0       0.0            0.0               32.0  \n",
      "(99999, 18)\n",
      "Missing values Month                    0\n",
      "DayofMonth               0\n",
      "DayOfWeek                0\n",
      "DepTime               1142\n",
      "CRSDepTime               0\n",
      "CRSArrTime               0\n",
      "CRSElapsedTime           0\n",
      "ArrDelay              1302\n",
      "DepDelay              1142\n",
      "Distance                 0\n",
      "TaxiOut               1142\n",
      "Cancelled                0\n",
      "Diverted                 0\n",
      "CarrierDelay         80370\n",
      "WeatherDelay         80370\n",
      "NASDelay             80370\n",
      "SecurityDelay        80370\n",
      "LateAircraftDelay    80370\n",
      "dtype: int64\n",
      "Uniqueness Month                   1\n",
      "DayofMonth             31\n",
      "DayOfWeek               7\n",
      "DepTime              1154\n",
      "CRSDepTime            213\n",
      "CRSArrTime            402\n",
      "CRSElapsedTime        157\n",
      "ArrDelay              390\n",
      "DepDelay              353\n",
      "Distance              445\n",
      "TaxiOut               113\n",
      "Cancelled               2\n",
      "Diverted                2\n",
      "CarrierDelay          209\n",
      "WeatherDelay          169\n",
      "NASDelay              191\n",
      "SecurityDelay          38\n",
      "LateAircraftDelay     287\n",
      "dtype: int64\n"
     ]
    }
   ],
   "source": [
    "# add your code here to do a first exploration of the data\n",
    "\n",
    "print(data.head())\n",
    "print(data.shape)\n",
    "\n",
    "print('Missing values',pd.isnull(data).apply(np.sum))\n",
    "print('Uniqueness',data.nunique())"
   ]
  },
  {
   "cell_type": "markdown",
   "metadata": {},
   "source": [
    "### Dealing with missing values\n",
    "\n",
    "The previous step should have shown you two things:\n",
    "\n",
    "1. some features have a **lot** of missing values (in particular those associated with Delay at departure). In the sequel we will assume that a missing value for a Delay amounts to no Delay. \n",
    "2. some feature don't have enough unique values to be interesting (which ones?) and should probably removed. \n",
    "\n",
    "Based on this:\n",
    "\n",
    "* fill the missing values associated with `*Delay` by a 0\n",
    "* remove the feature(s) that don't have enough variability\n",
    "* remove all instances that have missing values left"
   ]
  },
  {
   "cell_type": "code",
   "execution_count": 53,
   "metadata": {},
   "outputs": [],
   "source": [
    "# # add your code here to clean the data\n",
    "# data.loc[:,[c for c in data.columns if 'Delay' in c]] =data.loc[:,[c for c in data.columns if 'Delay' in c]].fillna(0) \n",
    "# pd.isnull(data).sum()\n",
    "\n",
    "# data = data.drop(['Month','DayOfWeek','Cancelled','Diverted'],axis = 1)\n",
    "\n",
    "\n",
    "del data['Month']\n",
    "\n",
    "for col in ['CarrierDelay', 'WeatherDelay', 'NASDelay', 'SecurityDelay', 'LateAircraftDelay']:\n",
    "    data[col].fillna(0, inplace=True)\n",
    "\n",
    "data.dropna(axis=0, inplace=True)\n"
   ]
  },
  {
   "cell_type": "markdown",
   "metadata": {},
   "source": [
    "### Extracting the response\n",
    "\n",
    "Our aim is to predict whether there will be a significative delay. \n",
    "The variable that encodes the delay is `ArrDelay`. \n",
    "\n",
    "* Start by having a look at it using `distplot` from `seaborn` \n",
    "* then compute the delay threshold such that 70% of the positive delays are lower than that threshold (note: if you're struggling to compute this, set the threshold to 26 minutes)\n",
    "* form a response vector `major_delay` being either 0 or 1 depending on whether the delay is less than or greater or equal to the threshold\n",
    "* finally remove the `ArrDelay` column from the dataset."
   ]
  },
  {
   "cell_type": "code",
   "execution_count": 54,
   "metadata": {},
   "outputs": [
    {
     "name": "stdout",
     "output_type": "stream",
     "text": [
      "Percentage higher than threshold? 29.381046349328585pct.\n"
     ]
    },
    {
     "data": {
      "image/png": "[encoded data removed]",
      "text/plain": [
       "<matplotlib.figure.Figure at 0x220b9e47c88>"
      ]
     },
     "metadata": {},
     "output_type": "display_data"
    }
   ],
   "source": [
    "# # add your code here to show the distribution of `ArrDelay`\n",
    "# plt.figure(figsize=(17,7))\n",
    "# sbs.distplot(data['ArrDelay'])\n",
    "\n",
    "# # compute the delay threshold\n",
    "# threshold=26\n",
    "\n",
    "# # form the response vector major__delay and remove ArrDelay from the dataset\n",
    "# major_delay = (data['ArrDelay']>=26).astype(int)\n",
    "\n",
    "# data = data.drop('ArrDelay',axis=1)\n",
    "\n",
    "\n",
    "plt.figure(figsize=(8, 6))\n",
    "sbs.distplot(data['ArrDelay'])\n",
    "\n",
    "all_delays = data['ArrDelay']\n",
    "positive_delays = all_delays[all_delays > 0]\n",
    "delay_threshold = np.percentile(positive_delays, 70)\n",
    "\n",
    "# Note you can check this worked:\n",
    "print(\"Percentage higher than threshold? {}pct.\".format(\n",
    "    100 * sum(positive_delays > delay_threshold) / len(positive_delays)))\n",
    "\n",
    "major_delay = (all_delays >= delay_threshold).astype(int)\n",
    "\n",
    "del data['ArrDelay']\n"
   ]
  },
  {
   "cell_type": "markdown",
   "metadata": {},
   "source": [
    "### Splitting the data into a training and a testing set\n",
    "\n",
    "Now that you have reasonably clean data, it's time to split into a training set to train your model(s) and a test set to test those! Sklearn has all that sorted for you, of course. \n",
    "\n",
    "Import the function `train_test_split` from `sklearn.model_selection` and check the documentation using the `?` as usual. "
   ]
  },
  {
   "cell_type": "code",
   "execution_count": 56,
   "metadata": {},
   "outputs": [],
   "source": [
    "# add your code to load the function and check the doc\n",
    "from sklearn.model_selection import train_test_split"
   ]
  },
  {
   "cell_type": "markdown",
   "metadata": {},
   "source": [
    "The key options that you are most likely to use are:\n",
    "\n",
    "* `test_size` a proportion so a number between 0 and 1, typically `0.2` or `0.3`\n",
    "* `random_state` an arbitrary integer to seed the train-test split so that your experiments are reproducible\n",
    "* `stratify` in the case of imbalanced data, you want to make sure your test set and your training set contain similar proportion of the different classes. \n",
    "\n",
    "Create `X_train`, `X_test`, `y_train`, `y_test` out of `data` and `major_delay`, use `0.3` as proportion for test and set the random state to `5175`. Specify `major_delay` as the stratifier. "
   ]
  },
  {
   "cell_type": "code",
   "execution_count": 57,
   "metadata": {},
   "outputs": [],
   "source": [
    "# add your code here\n",
    "X_train, X_test, y_train, y_test = train_test_split(data, major_delay, \n",
    "                                                    test_size=0.3, random_state=5175,\n",
    "                                                    stratify=major_delay)\n"
   ]
  },
  {
   "cell_type": "markdown",
   "metadata": {},
   "source": [
    "## Decision Tree Classifier (DTC)\n",
    "\n",
    "We will apply a DTC to the dataset and see how it does.\n",
    "\n",
    "### Using SkLearn's DTC\n",
    "\n",
    "The procedure above can be highly optimised making the fitting of a particular DTC very fast. Much like for the kNN, SkLearn offers the `DecisionTreeClassifier` from `sklearn.tree`. Have a look at the documentation then declare a tree with no more than 3 levels. Fit it on the training data. "
   ]
  },
  {
   "cell_type": "code",
   "execution_count": 58,
   "metadata": {},
   "outputs": [
    {
     "data": {
      "text/plain": [
       "DecisionTreeClassifier(class_weight=None, criterion='gini', max_depth=3,\n",
       "            max_features=None, max_leaf_nodes=None,\n",
       "            min_impurity_split=1e-07, min_samples_leaf=1,\n",
       "            min_samples_split=2, min_weight_fraction_leaf=0.0,\n",
       "            presort=False, random_state=None, splitter='best')"
      ]
     },
     "execution_count": 58,
     "metadata": {},
     "output_type": "execute_result"
    }
   ],
   "source": [
    "from sklearn.tree import DecisionTreeClassifier\n",
    "\n",
    "dtc = DecisionTreeClassifier(max_depth=3)\n",
    "\n",
    "dtc.fit(X_train, y_train)"
   ]
  },
  {
   "cell_type": "markdown",
   "metadata": {},
   "source": [
    "### (Bonus) Visualising the DTC\n",
    "\n",
    "A nice feature is to export the tree and display it using `graphviz` (http://www.graphviz.org/Download..php) \n",
    "\n",
    "* on Mac: install with `Homebrew` using `brew install graphviz`\n",
    "* on Windows: http://www.graphviz.org/Download_windows.php \n",
    "* on Linux: http://www.graphviz.org/Download..php\n",
    "\n",
    "To do this, \n",
    "\n",
    "* import `export_graphviz` from `sklearn.tree`\n",
    "* use `export_graphviz` on the tree you fitted above specifying a name for the output file like `tree.dot`\n",
    "* (see also [the documentation](http://scikit-learn.org/stable/modules/generated/sklearn.tree.export_graphviz.html))\n",
    "\n",
    "To see how it looks, use graphviz: \n",
    "\n",
    "```bash\n",
    "dot -Tpng tree.dot -o tree.png\n",
    "```\n",
    "\n",
    "![](tree.png)\n"
   ]
  },
  {
   "cell_type": "code",
   "execution_count": 61,
   "metadata": {},
   "outputs": [],
   "source": [
    "from sklearn.tree import export_graphviz\n",
    "\n",
    "export_graphviz(dtc, out_file='tree.dot')\n"
   ]
  },
  {
   "cell_type": "markdown",
   "metadata": {},
   "source": [
    "### Assessing the quality of a DTC\n",
    "\n",
    "Using\n",
    "\n",
    "```python\n",
    "from sklearn.metrics import confusion_matrix, classification_report, accuracy_score\n",
    "```\n",
    "\n",
    "* recover the confusion matrix on the training or the test set\n",
    "* recover the classification report on the training or the test set\n",
    "* adjust the depth of the tree to get optimal results\n",
    "\n",
    "(**Bonus**) if you have the time: try to explore the parameters of the DTC, what do they mean? do they help? See also [the doc](http://scikit-learn.org/stable/modules/generated/sklearn.tree.DecisionTreeClassifier.html#sklearn.tree.DecisionTreeClassifier). "
   ]
  },
  {
   "cell_type": "code",
   "execution_count": 63,
   "metadata": {},
   "outputs": [
    {
     "name": "stdout",
     "output_type": "stream",
     "text": [
      "The confusion matrix: \n",
      "\n",
      "[[25698   116]\n",
      " [  662  3134]]\n",
      "\n",
      "The classification report:\n",
      "\n",
      "             precision    recall  f1-score   support\n",
      "\n",
      "          0      0.975     0.996     0.985     25814\n",
      "          1      0.964     0.826     0.890      3796\n",
      "\n",
      "avg / total      0.974     0.974     0.973     29610\n",
      "\n",
      "0.973725092874\n"
     ]
    }
   ],
   "source": [
    "# your code here to get a prediction out of the DTC\n",
    "from sklearn.metrics import confusion_matrix, classification_report, accuracy_score\n",
    "y_test_pred2 = dtc.predict(X_test)\n",
    "\n",
    "print(\"The confusion matrix: \\n\")\n",
    "print(confusion_matrix(y_test, y_test_pred2))\n",
    "print(\"\\nThe classification report:\\n\")\n",
    "print(classification_report(y_test, y_test_pred2, digits=3))\n",
    "\n",
    "# print the `confusion_matrix` and `classification_report` , how good is your model?\n",
    "print(accuracy_score(y_test, y_test_pred2))\n"
   ]
  },
  {
   "cell_type": "markdown",
   "metadata": {},
   "source": [
    "## Random Forest Classifier\n",
    "\n",
    "The accuracy is already extremely high, this is because some of the features are \"too informative\". Let's remove a few features and re-compute a train-test set. "
   ]
  },
  {
   "cell_type": "code",
   "execution_count": 64,
   "metadata": {
    "collapsed": true
   },
   "outputs": [],
   "source": [
    "del data[\"DepDelay\"]\n",
    "del data[\"TaxiOut\"]\n",
    "del data[\"Cancelled\"]\n",
    "del data[\"Diverted\"]\n",
    "del data[\"CarrierDelay\"]\n",
    "del data[\"WeatherDelay\"]\n",
    "del data[\"NASDelay\"]\n",
    "del data[\"SecurityDelay\"]\n",
    "del data[\"LateAircraftDelay\"]\n",
    "\n",
    "X_train, X_test, y_train, y_test = train_test_split(data, major_delay, \n",
    "                                                    test_size=0.3, random_state=5175,\n",
    "                                                    stratify=major_delay)"
   ]
  },
  {
   "cell_type": "markdown",
   "metadata": {},
   "source": [
    "Adjust a DTC again to this data, and look at the classification report, you will still get a \n",
    "fairy high score though significantly lower than the one before"
   ]
  },
  {
   "cell_type": "code",
   "execution_count": 65,
   "metadata": {},
   "outputs": [
    {
     "name": "stdout",
     "output_type": "stream",
     "text": [
      "The confusion matrix: \n",
      "\n",
      "[[25749    65]\n",
      " [ 3175   621]]\n",
      "\n",
      " The classification report: \n",
      "\n",
      "             precision    recall  f1-score   support\n",
      "\n",
      "          0      0.890     0.997     0.941     25814\n",
      "          1      0.905     0.164     0.277      3796\n",
      "\n",
      "avg / total      0.892     0.891     0.856     29610\n",
      "\n",
      "0.890577507599\n"
     ]
    }
   ],
   "source": [
    "# your code here\n",
    "dtc.fit(X_train, y_train)\n",
    "y_test_pred2 = dtc.predict(X_test)\n",
    "\n",
    "print('The confusion matrix: \\n')\n",
    "print(confusion_matrix(y_test, y_test_pred2))\n",
    "print('\\n The classification report: \\n')\n",
    "print(classification_report(y_test, y_test_pred2, digits = 3))\n",
    "\n",
    "print(accuracy_score(y_test, y_test_pred2))\n",
    "\n"
   ]
  },
  {
   "cell_type": "markdown",
   "metadata": {},
   "source": [
    "### Fitting a RFC\n",
    "\n",
    "Try fitting a Random forest classifier (`RandomForestClassifier` from `sklearn.ensemble`), as a starting point, use 50 estimators. How is the accuracy now? Can you adjust the parameters further to get better results? "
   ]
  },
  {
   "cell_type": "code",
   "execution_count": 68,
   "metadata": {},
   "outputs": [
    {
     "name": "stdout",
     "output_type": "stream",
     "text": [
      "The confusion matrix: \n",
      "\n",
      "[[25669   145]\n",
      " [ 1534  2262]]\n",
      "\n",
      "The classification report:\n",
      "\n",
      "             precision    recall  f1-score   support\n",
      "\n",
      "          0      0.944     0.994     0.968     25814\n",
      "          1      0.940     0.596     0.729      3796\n",
      "\n",
      "avg / total      0.943     0.943     0.938     29610\n",
      "\n",
      "0.943296183722\n"
     ]
    }
   ],
   "source": [
    "# your code here to fit a RFC\n",
    "from sklearn.ensemble import RandomForestClassifier\n",
    "\n",
    "# your code here to predict and show the performances\n",
    "rf = RandomForestClassifier(n_estimators=50)\n",
    "\n",
    "rf.fit(X_train, y_train)\n",
    "\n",
    "y_test_pred3 = rf.predict(X_test)\n",
    "\n",
    "print(\"The confusion matrix: \\n\")\n",
    "print(confusion_matrix(y_test, y_test_pred3))\n",
    "print(\"\\nThe classification report:\\n\")\n",
    "print(classification_report(y_test, y_test_pred3, digits=3))\n",
    "\n",
    "print(accuracy_score(y_test, y_test_pred3))"
   ]
  },
  {
   "cell_type": "code",
   "execution_count": 72,
   "metadata": {},
   "outputs": [],
   "source": [
    "RandomForestClassifier?"
   ]
  }
 ],
 "metadata": {
  "kernelspec": {
   "display_name": "Python 3",
   "language": "python",
   "name": "python3"
  },
  "language_info": {
   "codemirror_mode": {
    "name": "ipython",
    "version": 3
   },
   "file_extension": ".py",
   "mimetype": "text/x-python",
   "name": "python",
   "nbconvert_exporter": "python",
   "pygments_lexer": "ipython3",
   "version": "3.6.1"
  }
 },
 "nbformat": 4,
 "nbformat_minor": 2
}
